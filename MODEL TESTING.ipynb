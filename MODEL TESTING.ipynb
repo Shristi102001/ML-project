{
 "cells": [
  {
   "cell_type": "code",
   "execution_count": null,
   "id": "a96c4ffd-db41-4f56-98bf-d08264f4231e",
   "metadata": {},
   "outputs": [],
   "source": []
  }
 ],
 "metadata": {
  "kernelspec": {
   "display_name": "",
   "name": ""
  },
  "language_info": {
   "name": ""
  }
 },
 "nbformat": 4,
 "nbformat_minor": 5
}
